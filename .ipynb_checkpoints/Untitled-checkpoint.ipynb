{
 "cells": [
  {
   "cell_type": "code",
   "execution_count": 20,
   "metadata": {},
   "outputs": [],
   "source": [
    "from example import rules"
   ]
  },
  {
   "cell_type": "code",
   "execution_count": 21,
   "metadata": {},
   "outputs": [
    {
     "data": {
      "text/plain": [
       "{11: 42,\n",
       " 12: 24,\n",
       " 13: 11,\n",
       " 14: 13,\n",
       " 15: 14,\n",
       " 16: 17,\n",
       " 17: 40,\n",
       " 18: 12,\n",
       " 19: 18,\n",
       " 24: 28,\n",
       " 28: 41,\n",
       " 40: 52,\n",
       " 42: 49,\n",
       " 47: 19,\n",
       " 48: 47,\n",
       " 49: 48,\n",
       " 51: 15,\n",
       " 52: 51,\n",
       " 54: 16,\n",
       " 55: 54,\n",
       " 56: 55,\n",
       " 228: 229,\n",
       " 229: 56}"
      ]
     },
     "execution_count": 21,
     "metadata": {},
     "output_type": "execute_result"
    }
   ],
   "source": [
    "rules "
   ]
  },
  {
   "cell_type": "code",
   "execution_count": 25,
   "metadata": {},
   "outputs": [],
   "source": [
    "from example import rules\n",
    "from keycodes import build_rule_string, command_phrase\n",
    "\n",
    "remappings = rules\n",
    "swaps = None\n",
    "\n",
    "remappings = remappings or dict()\n",
    "assert type(remappings) is dict\n",
    "remappings = set(remappings.items())\n",
    "\n",
    "swaps = swaps or []\n",
    "swaps = set(s for s in swaps) | set(tuple(reversed(s)) for s in swaps)\n",
    "\n",
    "rules = sorted(remappings | swaps, key=lambda x: x[0] < x[1])\n",
    "rules = list((k | 0x700000000, v | 0x700000000) for k, v in rules)\n",
    "\n",
    "cmd = command_phrase.format(',\\n'.join(list(map(build_rule_string, rules))))\n",
    "# return cmd"
   ]
  },
  {
   "cell_type": "code",
   "execution_count": 26,
   "metadata": {},
   "outputs": [
    {
     "name": "stdout",
     "output_type": "stream",
     "text": [
      "hidutil property --set '{\"UserKeyMapping\":[{\"HIDKeyboardModifierMappingSrc\": 0x700000037, \"HIDKeyboardModifierMappingDst\": 0x700000036},\n",
      "{\"HIDKeyboardModifierMappingSrc\": 0x700000036, \"HIDKeyboardModifierMappingDst\": 0x700000010},\n",
      "{\"HIDKeyboardModifierMappingSrc\": 0x70000000e, \"HIDKeyboardModifierMappingDst\": 0x70000000d},\n",
      "{\"HIDKeyboardModifierMappingSrc\": 0x7000000e5, \"HIDKeyboardModifierMappingDst\": 0x700000038},\n",
      "{\"HIDKeyboardModifierMappingSrc\": 0x700000034, \"HIDKeyboardModifierMappingDst\": 0x700000033},\n",
      "{\"HIDKeyboardModifierMappingSrc\": 0x700000031, \"HIDKeyboardModifierMappingDst\": 0x700000030},\n",
      "{\"HIDKeyboardModifierMappingSrc\": 0x70000000f, \"HIDKeyboardModifierMappingDst\": 0x70000000e},\n",
      "{\"HIDKeyboardModifierMappingSrc\": 0x700000013, \"HIDKeyboardModifierMappingDst\": 0x700000012},\n",
      "{\"HIDKeyboardModifierMappingSrc\": 0x700000012, \"HIDKeyboardModifierMappingDst\": 0x70000000c},\n",
      "{\"HIDKeyboardModifierMappingSrc\": 0x700000033, \"HIDKeyboardModifierMappingDst\": 0x70000000f},\n",
      "{\"HIDKeyboardModifierMappingSrc\": 0x700000038, \"HIDKeyboardModifierMappingDst\": 0x700000037},\n",
      "{\"HIDKeyboardModifierMappingSrc\": 0x700000030, \"HIDKeyboardModifierMappingDst\": 0x70000002f},\n",
      "{\"HIDKeyboardModifierMappingSrc\": 0x70000002f, \"HIDKeyboardModifierMappingDst\": 0x700000013},\n",
      "{\"HIDKeyboardModifierMappingSrc\": 0x70000000d, \"HIDKeyboardModifierMappingDst\": 0x70000000b},\n",
      "{\"HIDKeyboardModifierMappingSrc\": 0x70000000b, \"HIDKeyboardModifierMappingDst\": 0x70000002a},\n",
      "{\"HIDKeyboardModifierMappingSrc\": 0x70000002a, \"HIDKeyboardModifierMappingDst\": 0x700000031},\n",
      "{\"HIDKeyboardModifierMappingSrc\": 0x700000018, \"HIDKeyboardModifierMappingDst\": 0x70000001c},\n",
      "{\"HIDKeyboardModifierMappingSrc\": 0x7000000e4, \"HIDKeyboardModifierMappingDst\": 0x7000000e5},\n",
      "{\"HIDKeyboardModifierMappingSrc\": 0x70000001c, \"HIDKeyboardModifierMappingDst\": 0x700000029},\n",
      "{\"HIDKeyboardModifierMappingSrc\": 0x700000010, \"HIDKeyboardModifierMappingDst\": 0x700000011},\n",
      "{\"HIDKeyboardModifierMappingSrc\": 0x700000011, \"HIDKeyboardModifierMappingDst\": 0x700000028},\n",
      "{\"HIDKeyboardModifierMappingSrc\": 0x70000000c, \"HIDKeyboardModifierMappingDst\": 0x700000018},\n",
      "{\"HIDKeyboardModifierMappingSrc\": 0x700000028, \"HIDKeyboardModifierMappingDst\": 0x700000034}]}'\n"
     ]
    }
   ],
   "source": [
    "print(cmd)"
   ]
  },
  {
   "cell_type": "code",
   "execution_count": 14,
   "metadata": {},
   "outputs": [
    {
     "name": "stderr",
     "output_type": "stream",
     "text": [
      "bash: line 1: cmd: command not found\n"
     ]
    }
   ],
   "source": [
    "%%bash"
   ]
  },
  {
   "cell_type": "code",
   "execution_count": null,
   "metadata": {},
   "outputs": [],
   "source": []
  },
  {
   "cell_type": "code",
   "execution_count": null,
   "metadata": {},
   "outputs": [],
   "source": []
  },
  {
   "cell_type": "code",
   "execution_count": null,
   "metadata": {},
   "outputs": [],
   "source": []
  }
 ],
 "metadata": {
  "kernelspec": {
   "display_name": "Python 3",
   "language": "python",
   "name": "python3"
  },
  "language_info": {
   "codemirror_mode": {
    "name": "ipython",
    "version": 3
   },
   "file_extension": ".py",
   "mimetype": "text/x-python",
   "name": "python",
   "nbconvert_exporter": "python",
   "pygments_lexer": "ipython3",
   "version": "3.6.6"
  }
 },
 "nbformat": 4,
 "nbformat_minor": 2
}
